{
  "nbformat": 4,
  "nbformat_minor": 0,
  "metadata": {
    "colab": {
      "name": "IDL-Project-Attacks.ipynb",
      "provenance": [],
      "collapsed_sections": [],
      "toc_visible": true,
      "machine_shape": "hm"
    },
    "kernelspec": {
      "name": "python3",
      "display_name": "Python 3"
    },
    "accelerator": "GPU",
    "widgets": {
      "application/vnd.jupyter.widget-state+json": {
        "c0859602850240f886bf485165d7be9e": {
          "model_module": "@jupyter-widgets/controls",
          "model_name": "HBoxModel",
          "state": {
            "_view_name": "HBoxView",
            "_dom_classes": [],
            "_model_name": "HBoxModel",
            "_view_module": "@jupyter-widgets/controls",
            "_model_module_version": "1.5.0",
            "_view_count": null,
            "_view_module_version": "1.5.0",
            "box_style": "",
            "layout": "IPY_MODEL_c4a931c76cc7492d89fac10a8a348043",
            "_model_module": "@jupyter-widgets/controls",
            "children": [
              "IPY_MODEL_838c442c583f40e78073d8270c6a8ca3",
              "IPY_MODEL_79cdf3822fbe486786d5f70e1eb3a0a6"
            ]
          }
        },
        "c4a931c76cc7492d89fac10a8a348043": {
          "model_module": "@jupyter-widgets/base",
          "model_name": "LayoutModel",
          "state": {
            "_view_name": "LayoutView",
            "grid_template_rows": null,
            "right": null,
            "justify_content": null,
            "_view_module": "@jupyter-widgets/base",
            "overflow": null,
            "_model_module_version": "1.2.0",
            "_view_count": null,
            "flex_flow": null,
            "width": null,
            "min_width": null,
            "border": null,
            "align_items": null,
            "bottom": null,
            "_model_module": "@jupyter-widgets/base",
            "top": null,
            "grid_column": null,
            "overflow_y": null,
            "overflow_x": null,
            "grid_auto_flow": null,
            "grid_area": null,
            "grid_template_columns": null,
            "flex": null,
            "_model_name": "LayoutModel",
            "justify_items": null,
            "grid_row": null,
            "max_height": null,
            "align_content": null,
            "visibility": null,
            "align_self": null,
            "height": null,
            "min_height": null,
            "padding": null,
            "grid_auto_rows": null,
            "grid_gap": null,
            "max_width": null,
            "order": null,
            "_view_module_version": "1.2.0",
            "grid_template_areas": null,
            "object_position": null,
            "object_fit": null,
            "grid_auto_columns": null,
            "margin": null,
            "display": null,
            "left": null
          }
        },
        "838c442c583f40e78073d8270c6a8ca3": {
          "model_module": "@jupyter-widgets/controls",
          "model_name": "FloatProgressModel",
          "state": {
            "_view_name": "ProgressView",
            "style": "IPY_MODEL_93cd22d142494cd78b3a1e50207e308a",
            "_dom_classes": [],
            "description": "100%",
            "_model_name": "FloatProgressModel",
            "bar_style": "success",
            "max": 1117131,
            "_view_module": "@jupyter-widgets/controls",
            "_model_module_version": "1.5.0",
            "value": 1117131,
            "_view_count": null,
            "_view_module_version": "1.5.0",
            "orientation": "horizontal",
            "min": 0,
            "description_tooltip": null,
            "_model_module": "@jupyter-widgets/controls",
            "layout": "IPY_MODEL_db4f5b87e3944c238e5e4172082f167d"
          }
        },
        "79cdf3822fbe486786d5f70e1eb3a0a6": {
          "model_module": "@jupyter-widgets/controls",
          "model_name": "HTMLModel",
          "state": {
            "_view_name": "HTMLView",
            "style": "IPY_MODEL_135e4c595c7f4c0db2f78d907b3b76be",
            "_dom_classes": [],
            "description": "",
            "_model_name": "HTMLModel",
            "placeholder": "​",
            "_view_module": "@jupyter-widgets/controls",
            "_model_module_version": "1.5.0",
            "value": " 1.07M/1.07M [00:01&lt;00:00, 1.02MB/s]",
            "_view_count": null,
            "_view_module_version": "1.5.0",
            "description_tooltip": null,
            "_model_module": "@jupyter-widgets/controls",
            "layout": "IPY_MODEL_8a7d924d84f742e1a5a28f60ce0a392d"
          }
        },
        "93cd22d142494cd78b3a1e50207e308a": {
          "model_module": "@jupyter-widgets/controls",
          "model_name": "ProgressStyleModel",
          "state": {
            "_view_name": "StyleView",
            "_model_name": "ProgressStyleModel",
            "description_width": "initial",
            "_view_module": "@jupyter-widgets/base",
            "_model_module_version": "1.5.0",
            "_view_count": null,
            "_view_module_version": "1.2.0",
            "bar_color": null,
            "_model_module": "@jupyter-widgets/controls"
          }
        },
        "db4f5b87e3944c238e5e4172082f167d": {
          "model_module": "@jupyter-widgets/base",
          "model_name": "LayoutModel",
          "state": {
            "_view_name": "LayoutView",
            "grid_template_rows": null,
            "right": null,
            "justify_content": null,
            "_view_module": "@jupyter-widgets/base",
            "overflow": null,
            "_model_module_version": "1.2.0",
            "_view_count": null,
            "flex_flow": null,
            "width": null,
            "min_width": null,
            "border": null,
            "align_items": null,
            "bottom": null,
            "_model_module": "@jupyter-widgets/base",
            "top": null,
            "grid_column": null,
            "overflow_y": null,
            "overflow_x": null,
            "grid_auto_flow": null,
            "grid_area": null,
            "grid_template_columns": null,
            "flex": null,
            "_model_name": "LayoutModel",
            "justify_items": null,
            "grid_row": null,
            "max_height": null,
            "align_content": null,
            "visibility": null,
            "align_self": null,
            "height": null,
            "min_height": null,
            "padding": null,
            "grid_auto_rows": null,
            "grid_gap": null,
            "max_width": null,
            "order": null,
            "_view_module_version": "1.2.0",
            "grid_template_areas": null,
            "object_position": null,
            "object_fit": null,
            "grid_auto_columns": null,
            "margin": null,
            "display": null,
            "left": null
          }
        },
        "135e4c595c7f4c0db2f78d907b3b76be": {
          "model_module": "@jupyter-widgets/controls",
          "model_name": "DescriptionStyleModel",
          "state": {
            "_view_name": "StyleView",
            "_model_name": "DescriptionStyleModel",
            "description_width": "",
            "_view_module": "@jupyter-widgets/base",
            "_model_module_version": "1.5.0",
            "_view_count": null,
            "_view_module_version": "1.2.0",
            "_model_module": "@jupyter-widgets/controls"
          }
        },
        "8a7d924d84f742e1a5a28f60ce0a392d": {
          "model_module": "@jupyter-widgets/base",
          "model_name": "LayoutModel",
          "state": {
            "_view_name": "LayoutView",
            "grid_template_rows": null,
            "right": null,
            "justify_content": null,
            "_view_module": "@jupyter-widgets/base",
            "overflow": null,
            "_model_module_version": "1.2.0",
            "_view_count": null,
            "flex_flow": null,
            "width": null,
            "min_width": null,
            "border": null,
            "align_items": null,
            "bottom": null,
            "_model_module": "@jupyter-widgets/base",
            "top": null,
            "grid_column": null,
            "overflow_y": null,
            "overflow_x": null,
            "grid_auto_flow": null,
            "grid_area": null,
            "grid_template_columns": null,
            "flex": null,
            "_model_name": "LayoutModel",
            "justify_items": null,
            "grid_row": null,
            "max_height": null,
            "align_content": null,
            "visibility": null,
            "align_self": null,
            "height": null,
            "min_height": null,
            "padding": null,
            "grid_auto_rows": null,
            "grid_gap": null,
            "max_width": null,
            "order": null,
            "_view_module_version": "1.2.0",
            "grid_template_areas": null,
            "object_position": null,
            "object_fit": null,
            "grid_auto_columns": null,
            "margin": null,
            "display": null,
            "left": null
          }
        }
      }
    }
  },
  "cells": [
    {
      "cell_type": "markdown",
      "metadata": {
        "id": "GAT_vrgGzS9M"
      },
      "source": [
        "# Basic Configs"
      ]
    },
    {
      "cell_type": "code",
      "metadata": {
        "id": "8Pf1M01u-MDe",
        "outputId": "3e003716-88ca-435c-faf8-31f56bff9dce",
        "colab": {
          "base_uri": "https://localhost:8080/"
        }
      },
      "source": [
        "from google.colab import drive\n",
        "drive.mount('/content/gdrive')"
      ],
      "execution_count": 1,
      "outputs": [
        {
          "output_type": "stream",
          "text": [
            "Mounted at /content/gdrive\n"
          ],
          "name": "stdout"
        }
      ]
    },
    {
      "cell_type": "markdown",
      "metadata": {
        "id": "43KCYmmxzVUI"
      },
      "source": [
        "## Imports"
      ]
    },
    {
      "cell_type": "code",
      "metadata": {
        "id": "nQSsWX5PyGsP"
      },
      "source": [
        "import torch\n",
        "import torch.nn as nn\n",
        "import torch.nn.functional as F\n",
        "import torch.optim as optim\n",
        "\n",
        "from torchvision import datasets, transforms\n",
        "from torch.utils import data\n",
        "\n",
        "import numpy as np\n",
        "import matplotlib.pyplot as plt"
      ],
      "execution_count": 2,
      "outputs": []
    },
    {
      "cell_type": "markdown",
      "metadata": {
        "id": "wxc6LruTzY1P"
      },
      "source": [
        "## Global Variables"
      ]
    },
    {
      "cell_type": "code",
      "metadata": {
        "id": "7eCnIoPJzaF6"
      },
      "source": [
        "cuda = torch.cuda.is_available()\n",
        "device = torch.device(\"cuda\" if cuda else \"cpu\")\n",
        "cpu = torch.device(\"cpu\")\n",
        "batch_size = 128\n",
        "num_workers = 4"
      ],
      "execution_count": 3,
      "outputs": []
    },
    {
      "cell_type": "markdown",
      "metadata": {
        "id": "F4b9sZrkzdBk"
      },
      "source": [
        "## Load Repo\n",
        "- Rename the folder to `project`"
      ]
    },
    {
      "cell_type": "code",
      "metadata": {
        "id": "GiarZ_C5zeOk",
        "outputId": "ec3587b1-0048-4dfa-a1ef-8e4d28eab885",
        "colab": {
          "base_uri": "https://localhost:8080/"
        }
      },
      "source": [
        "!git clone https://github.com/effie-0/IDL-Project.git"
      ],
      "execution_count": 4,
      "outputs": [
        {
          "output_type": "stream",
          "text": [
            "Cloning into 'IDL-Project'...\n",
            "remote: Enumerating objects: 185, done.\u001b[K\n",
            "remote: Counting objects: 100% (185/185), done.\u001b[K\n",
            "remote: Compressing objects: 100% (142/142), done.\u001b[K\n",
            "remote: Total 185 (delta 83), reused 95 (delta 32), pack-reused 0\u001b[K\n",
            "Receiving objects: 100% (185/185), 1.59 MiB | 1.78 MiB/s, done.\n",
            "Resolving deltas: 100% (83/83), done.\n"
          ],
          "name": "stdout"
        }
      ]
    },
    {
      "cell_type": "code",
      "metadata": {
        "id": "s57qQSazGwtS"
      },
      "source": [
        "!mv IDL-Project project"
      ],
      "execution_count": 5,
      "outputs": []
    },
    {
      "cell_type": "markdown",
      "metadata": {
        "id": "c6_Shb6j7ZvN"
      },
      "source": [
        "# Load Functions"
      ]
    },
    {
      "cell_type": "code",
      "metadata": {
        "id": "xUEcDWII4jzr"
      },
      "source": [
        "from project.summarize.load_data import AdvDataset, get_data"
      ],
      "execution_count": 6,
      "outputs": []
    },
    {
      "cell_type": "markdown",
      "metadata": {
        "id": "-0H0CKP2Bzzm"
      },
      "source": [
        "## Load Dataset"
      ]
    },
    {
      "cell_type": "code",
      "metadata": {
        "id": "QlWdTc2dBzgk",
        "outputId": "b8b0befa-c73a-404d-eb00-36d084f7c023",
        "colab": {
          "base_uri": "https://localhost:8080/"
        }
      },
      "source": [
        "trainset, trainloader, testset, testloader = get_data(batch_size)"
      ],
      "execution_count": 16,
      "outputs": [
        {
          "output_type": "stream",
          "text": [
            "Files already downloaded and verified\n",
            "Files already downloaded and verified\n"
          ],
          "name": "stdout"
        }
      ]
    },
    {
      "cell_type": "markdown",
      "metadata": {
        "id": "O2_m7fmS7e01"
      },
      "source": [
        "## Load Models"
      ]
    },
    {
      "cell_type": "code",
      "metadata": {
        "id": "dBurYP4l7eNo"
      },
      "source": [
        "from project.summarize.classifier import ResidualBlock, ResNet18, cifar_resnet20, ResNet50, VGG"
      ],
      "execution_count": 8,
      "outputs": []
    },
    {
      "cell_type": "code",
      "metadata": {
        "id": "PgGGyJdo5m48",
        "outputId": "6c6fb1d3-b895-4dac-dbf4-202010231cd0",
        "colab": {
          "base_uri": "https://localhost:8080/",
          "height": 103,
          "referenced_widgets": [
            "c0859602850240f886bf485165d7be9e",
            "c4a931c76cc7492d89fac10a8a348043",
            "838c442c583f40e78073d8270c6a8ca3",
            "79cdf3822fbe486786d5f70e1eb3a0a6",
            "93cd22d142494cd78b3a1e50207e308a",
            "db4f5b87e3944c238e5e4172082f167d",
            "135e4c595c7f4c0db2f78d907b3b76be",
            "8a7d924d84f742e1a5a28f60ce0a392d"
          ]
        }
      },
      "source": [
        "resnet18 = ResNet18(ResidualBlock)\n",
        "resnet20 = cifar_resnet20('cifar10')  # With pretrained model\n",
        "resnet50 = ResNet50()\n",
        "vgg16 = VGG('VGG16')"
      ],
      "execution_count": 9,
      "outputs": [
        {
          "output_type": "stream",
          "text": [
            "Downloading: \"https://github.com/chenyaofo/CIFAR-pretrained-models/releases/download/resnet/cifar10-resnet20-30abc31d.pth\" to /root/.cache/torch/hub/checkpoints/cifar10-resnet20-30abc31d.pth\n"
          ],
          "name": "stderr"
        },
        {
          "output_type": "display_data",
          "data": {
            "application/vnd.jupyter.widget-view+json": {
              "model_id": "c0859602850240f886bf485165d7be9e",
              "version_minor": 0,
              "version_major": 2
            },
            "text/plain": [
              "HBox(children=(FloatProgress(value=0.0, max=1117131.0), HTML(value='')))"
            ]
          },
          "metadata": {
            "tags": []
          }
        },
        {
          "output_type": "stream",
          "text": [
            "\n"
          ],
          "name": "stdout"
        }
      ]
    },
    {
      "cell_type": "markdown",
      "metadata": {
        "id": "F1dMztxw_iEj"
      },
      "source": [
        "### Load Trained Models"
      ]
    },
    {
      "cell_type": "code",
      "metadata": {
        "id": "r1sdF0XM8Pxe",
        "outputId": "b29df99e-3aec-4e89-fa97-5ba863e6d913",
        "colab": {
          "base_uri": "https://localhost:8080/"
        }
      },
      "source": [
        "vgg16_path = \"/content/gdrive/My Drive/18-786 IDL/IDL.dll/models/vgg16.pth\"\n",
        "vgg16.load_state_dict(torch.load(vgg16_path)['model_state_dict'])\n",
        "\n",
        "resnet18_path = \"/content/gdrive/My Drive/18-786 IDL/IDL.dll/models/ResNet18.pth\"\n",
        "resnet18.load_state_dict(torch.load(resnet18_path)['model_state_dict'])\n",
        "\n",
        "resnet50_path = \"/content/gdrive/My Drive/18-786 IDL/IDL.dll/models/Copy of ResNet50_49.pth\"\n",
        "resnet50.load_state_dict(torch.load(resnet50_path)['model_state_dict'])"
      ],
      "execution_count": 10,
      "outputs": [
        {
          "output_type": "execute_result",
          "data": {
            "text/plain": [
              "<All keys matched successfully>"
            ]
          },
          "metadata": {
            "tags": []
          },
          "execution_count": 10
        }
      ]
    },
    {
      "cell_type": "code",
      "metadata": {
        "id": "ShIrMfsh_nR5"
      },
      "source": [
        "models = {\n",
        "    'resnet18': resnet18,\n",
        "    'resnet20': resnet20,\n",
        "    'resnet50': resnet50,\n",
        "    'vgg16': vgg16,\n",
        "}"
      ],
      "execution_count": 11,
      "outputs": []
    },
    {
      "cell_type": "markdown",
      "metadata": {
        "id": "AVumNyL1Bhrm"
      },
      "source": [
        "# Generate the Adversarial Samples"
      ]
    },
    {
      "cell_type": "code",
      "metadata": {
        "id": "2zgSpIlDBmYM"
      },
      "source": [
        "from project.summarize.generate_attack import generate_fgsm_attack"
      ],
      "execution_count": 13,
      "outputs": []
    },
    {
      "cell_type": "code",
      "metadata": {
        "id": "evznHBqVEMzd"
      },
      "source": [
        "criterion = nn.CrossEntropyLoss()"
      ],
      "execution_count": 14,
      "outputs": []
    },
    {
      "cell_type": "markdown",
      "metadata": {
        "id": "boLvphrkuW56"
      },
      "source": [
        "## Evaluate the models"
      ]
    },
    {
      "cell_type": "code",
      "metadata": {
        "id": "RgVQxboIuS8G",
        "outputId": "81c3b2f1-e383-47a6-fb13-30ff6e536c86",
        "colab": {
          "base_uri": "https://localhost:8080/"
        }
      },
      "source": [
        "eps = 0.0\n",
        "\n",
        "for model_name, model in models.items():\n",
        "    model.to(device)\n",
        "    model.eval()\n",
        "    acc, adv_ex, adv_label = generate_fgsm_attack(model, criterion, testloader, testset, eps, device)\n",
        "    loss, acc = evaluate(model, testloader, criterion, device)\n",
        "    print('eval acc = ', acc)\n",
        "    model.to(cpu)\n",
        "    torch.cuda.empty_cache()"
      ],
      "execution_count": 21,
      "outputs": [
        {
          "output_type": "stream",
          "text": [
            "Epsilon: 0.0\tTest Accuracy = 9054 / 10000 = 0.9054\n",
            "eval acc =  90.53999999999999\n",
            "Epsilon: 0.0\tTest Accuracy = 9165 / 10000 = 0.9165\n",
            "eval acc =  91.64999999999999\n",
            "Epsilon: 0.0\tTest Accuracy = 9081 / 10000 = 0.9081\n",
            "eval acc =  90.81\n",
            "Epsilon: 0.0\tTest Accuracy = 9231 / 10000 = 0.9231\n",
            "eval acc =  92.31\n"
          ],
          "name": "stdout"
        }
      ]
    },
    {
      "cell_type": "code",
      "metadata": {
        "id": "WiYJvm6BCZMr",
        "outputId": "b777bbdb-24c8-429b-f9b3-480a35a5ff72",
        "colab": {
          "base_uri": "https://localhost:8080/"
        }
      },
      "source": [
        "adv_samples = {}\n",
        "eps = 0.05\n",
        "\n",
        "for model_name, model in models.items():\n",
        "    model.to(device)\n",
        "    model.eval()\n",
        "    acc, adv_ex, adv_label = generate_fgsm_attack(model, criterion, testloader, testset, eps, device)\n",
        "    model.to(cpu)\n",
        "    torch.cuda.empty_cache()\n",
        "    dataset = AdvDataset(adv_ex, adv_label)\n",
        "    loader = data.DataLoader(dataset, batch_size=batch_size, \n",
        "                             shuffle=False,\n",
        "                             num_workers=num_workers)\n",
        "    adv_samples[model_name] = (dataset, loader)"
      ],
      "execution_count": 17,
      "outputs": [
        {
          "output_type": "stream",
          "text": [
            "Epsilon: 0.05\tTest Accuracy = 2244 / 10000 = 0.2244\n",
            "Epsilon: 0.05\tTest Accuracy = 2545 / 10000 = 0.2545\n",
            "Epsilon: 0.05\tTest Accuracy = 2477 / 10000 = 0.2477\n",
            "Epsilon: 0.05\tTest Accuracy = 2014 / 10000 = 0.2014\n"
          ],
          "name": "stdout"
        }
      ]
    },
    {
      "cell_type": "markdown",
      "metadata": {
        "id": "Ew7ZbfbbD5a1"
      },
      "source": [
        "# 4x4 Matrix"
      ]
    },
    {
      "cell_type": "code",
      "metadata": {
        "id": "g-I3bi0FD92_"
      },
      "source": [
        "from project.summarize.normal_train import evaluate"
      ],
      "execution_count": 18,
      "outputs": []
    },
    {
      "cell_type": "code",
      "metadata": {
        "id": "z0ljTCUkEfYa",
        "outputId": "50daec1c-a078-455f-f249-0004baff7f2d",
        "colab": {
          "base_uri": "https://localhost:8080/"
        }
      },
      "source": [
        "matrix = {}\n",
        "for model_name, model in models.items():\n",
        "    line = {}\n",
        "    matrix[model_name] = line\n",
        "    model.to(device)\n",
        "    for adv_name, (dataset, loader) in adv_samples.items():\n",
        "        print('classifier: ', model_name, ';  adversarial data comes from: ', adv_name)\n",
        "        loss, acc = evaluate(model, loader, criterion, device)\n",
        "        line[adv_name] = acc\n",
        "        print('acc = ', acc)\n",
        "    model.to(cpu)\n",
        "    torch.cuda.empty_cache()"
      ],
      "execution_count": 20,
      "outputs": [
        {
          "output_type": "stream",
          "text": [
            "classifier:  resnet18 ;  adversarial data comes from:  resnet18\n",
            "acc =  22.439999999999998\n",
            "classifier:  resnet18 ;  adversarial data comes from:  resnet20\n",
            "acc =  82.73\n",
            "classifier:  resnet18 ;  adversarial data comes from:  resnet50\n",
            "acc =  76.13\n",
            "classifier:  resnet18 ;  adversarial data comes from:  vgg16\n",
            "acc =  78.82000000000001\n",
            "classifier:  resnet20 ;  adversarial data comes from:  resnet18\n",
            "acc =  71.84\n",
            "classifier:  resnet20 ;  adversarial data comes from:  resnet20\n",
            "acc =  25.45\n",
            "classifier:  resnet20 ;  adversarial data comes from:  resnet50\n",
            "acc =  65.53\n",
            "classifier:  resnet20 ;  adversarial data comes from:  vgg16\n",
            "acc =  71.77\n",
            "classifier:  resnet50 ;  adversarial data comes from:  resnet18\n",
            "acc =  73.64\n",
            "classifier:  resnet50 ;  adversarial data comes from:  resnet20\n",
            "acc =  76.69\n",
            "classifier:  resnet50 ;  adversarial data comes from:  resnet50\n",
            "acc =  24.77\n",
            "classifier:  resnet50 ;  adversarial data comes from:  vgg16\n",
            "acc =  76.29\n",
            "classifier:  vgg16 ;  adversarial data comes from:  resnet18\n",
            "acc =  75.96000000000001\n",
            "classifier:  vgg16 ;  adversarial data comes from:  resnet20\n",
            "acc =  81.69999999999999\n",
            "classifier:  vgg16 ;  adversarial data comes from:  resnet50\n",
            "acc =  76.71\n",
            "classifier:  vgg16 ;  adversarial data comes from:  vgg16\n",
            "acc =  20.14\n"
          ],
          "name": "stdout"
        }
      ]
    },
    {
      "cell_type": "code",
      "metadata": {
        "id": "0U0q04FWEfN8"
      },
      "source": [
        ""
      ],
      "execution_count": null,
      "outputs": []
    }
  ]
}